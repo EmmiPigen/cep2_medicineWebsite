{
 "cells": [
  {
   "cell_type": "markdown",
   "id": "18f17824",
   "metadata": {},
   "source": [
    "# Python code for the API calls"
   ]
  },
  {
   "cell_type": "markdown",
   "id": "9d936d1b",
   "metadata": {},
   "source": [
    "## Code for the raspberry pi to send data from the sensors to the server"
   ]
  },
  {
   "cell_type": "code",
   "execution_count": 3,
   "id": "e630c8e4",
   "metadata": {},
   "outputs": [
    {
     "name": "stdout",
     "output_type": "stream",
     "text": [
      "{'status': 'success', 'message': 'Data received successfully'}\n"
     ]
    }
   ],
   "source": [
    "import requests\n",
    "import json\n",
    "import base64\n",
    "import time\n",
    "\n",
    "\n",
    "event = \"sendUdstyrListeInfo\"\n",
    "userId = 1\n",
    "url = f\"http://127.0.0.1:8085/api/{event}/{userId}\"\n",
    "\n",
    "udstyrDataList = {\n",
    "    \"udstyrData\": [\n",
    "        {'enhed': \"led_Lys1\", \"status\": \"tilsluttet\", \"power\": 76, \"lokale\": \"Soveværelse\"},\n",
    "        {'enhed': \"buzzer1\", \"status\": \"tilsluttet\", \"power\": 40, \"lokale\": \"Stue\"},\n",
    "        {'enhed': \"movement_sensor1\", \"status\": \"Low power\", \"power\": 50, \"lokale\": \"Køkken\"},\n",
    "        {'enhed': \"motion_sensor1\", \"status\": \"Online\", \"power\": 40, \"lokale\": \"Badeværelse\"},\n",
    "    ]\n",
    "}\n",
    "\n",
    "udstyrDataList = json.dumps(udstyrDataList, indent=4)\n",
    "\n",
    "udstyrDataList_bytes = udstyrDataList.encode('ascii')\n",
    "base64_bytes = base64.b64encode(udstyrDataList_bytes)\n",
    "base64_string = base64_bytes.decode('ascii')\n",
    "\n",
    "x = requests.post(url, json=base64_string)\n",
    "response = x.json()\n",
    "if response[\"status\"] == \"error\":\n",
    "    print(response[\"message\"])\n",
    "else:\n",
    "  print(response)"
   ]
  },
  {
   "cell_type": "markdown",
   "id": "549ad571",
   "metadata": {},
   "source": [
    "## Code for the raspberry pi to send a medicication registration to the server"
   ]
  },
  {
   "cell_type": "code",
   "execution_count": null,
   "id": "f770497e",
   "metadata": {},
   "outputs": [],
   "source": [
    "tid = time.time()\n",
    "tid = time.strftime('%Y-%m-%d %H:%M:%S', time.localtime(tid))\n",
    "\n",
    "event = \"MedicationRegistrationLog\"\n",
    "userId = 1\n",
    "url = f\"http://127.0.0.1:8085/api/{event}/{userId}\"\n",
    "\n",
    "\n",
    "medicationLogEntry = {\n",
    "  \"medicationLog\": \n",
    "    {\"name\": \"Paracetamol\", \"tagetTid\": tid, \"status\": 1, \"lokale\": \"Stue\"},\n",
    "}\n",
    "\n",
    "medicationLogEntry = json.dumps(medicationLogEntry, indent=4)\n",
    "\n",
    "medicationLogEntry_bytes = medicationLogEntry.encode('ascii')\n",
    "base64_bytes = base64.b64encode(medicationLogEntry_bytes)\n",
    "base64_string = base64_bytes.decode('ascii')\n",
    "\n",
    "x = requests.post(url, json=base64_string)\n",
    "response = x.json()\n",
    "if response[\"status\"] == \"error\":\n",
    "    print(response[\"message\"])\n",
    "    print(x.text)\n",
    "else:\n",
    "  print(response)"
   ]
  },
  {
   "cell_type": "markdown",
   "id": "6eda6130",
   "metadata": {},
   "source": [
    "## Code for the raspberry pi to get the medication list for a user from the server\n"
   ]
  },
  {
   "cell_type": "code",
   "execution_count": null,
   "id": "00ea1396",
   "metadata": {},
   "outputs": [],
   "source": [
    "event = \"getUserMedikamentListe\"\n",
    "userId = 1\n",
    "\n",
    "x = requests.get(url)\n",
    "response = x.json()\n",
    "if response[\"status\"] == \"error\":\n",
    "    print(response[\"message\"])\n",
    "    \n",
    "else:\n",
    "  if response[\"status\"] == \"success\":\n",
    "      medikamentListe = response[\"list\"]\n",
    "      for medikament in medikamentListe:\n",
    "          print(medikament[\"name\"])\n",
    "          print(medikament[\"timeInterval\"])\n",
    "          for i in medikament[\"timesToTake\"]:\n",
    "              print(i)"
   ]
  }
 ],
 "metadata": {
  "kernelspec": {
   "display_name": "base",
   "language": "python",
   "name": "python3"
  },
  "language_info": {
   "codemirror_mode": {
    "name": "ipython",
    "version": 3
   },
   "file_extension": ".py",
   "mimetype": "text/x-python",
   "name": "python",
   "nbconvert_exporter": "python",
   "pygments_lexer": "ipython3",
   "version": "3.12.7"
  }
 },
 "nbformat": 4,
 "nbformat_minor": 5
}
