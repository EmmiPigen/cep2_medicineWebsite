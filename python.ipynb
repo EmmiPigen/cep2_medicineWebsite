{
 "cells": [
  {
   "cell_type": "code",
   "execution_count": 57,
   "id": "e630c8e4",
   "metadata": {},
   "outputs": [
    {
     "name": "stdout",
     "output_type": "stream",
     "text": [
      "{'status': 'success', 'message': 'Data received successfully'}\n"
     ]
    }
   ],
   "source": [
    "import requests\n",
    "import json\n",
    "\n",
    "event = \"sendUdstyrListeInfo\"\n",
    "userId = 2\n",
    "url = f\"http://127.0.0.1:8085/api/{event}/{userId}\"\n",
    "\n",
    "udstyrDataList = {\n",
    "    \"udstyrData\": [\n",
    "        {'type': \"led\", \"status\": \"tilsluttet\", \"power\": 76, \"lokale\": \"Soveværelse\"},\n",
    "        {'type': \"buzzer\", \"status\": \"tilsluttet\", \"power\": 40, \"lokale\": \"Stue\"},\n",
    "        {'type': \"movement_sensor\", \"status\": \"tilsluttet\", \"power\": 23, \"lokale\": \"Køkken\"},\n",
    "        {'type': \"motion_sensor\", \"status\": \"tilsluttet\", \"power\": 15, \"lokale\": \"Badeværelse\"},\n",
    "    ]\n",
    "}\n",
    "\n",
    "x = requests.post(url, json=udstyrDataList)\n",
    "response = x.json()\n",
    "if response[\"status\"] == \"error\":\n",
    "    print(response[\"message\"])\n",
    "else:\n",
    "  response = x.json()\n",
    "  print(response)"
   ]
  },
  {
   "cell_type": "code",
   "execution_count": 27,
   "id": "342061a7",
   "metadata": {},
   "outputs": [
    {
     "name": "stdout",
     "output_type": "stream",
     "text": [
      "No medicament list found for this user\n"
     ]
    }
   ],
   "source": [
    "#import requests\n",
    "\n",
    "event = \"getUserMedikamentListe\"\n",
    "url = f\"http://127.0.0.1:8085/api/{event}/3\"\n",
    "\n",
    "\n",
    "x = requests.get(url)\n",
    "response = x.json()\n",
    "if response[\"status\"] == \"error\":\n",
    "    print(response[\"message\"])\n",
    "    \n",
    "else:\n",
    "  if response[\"status\"] == \"success\":\n",
    "      medikamentListe = response[\"list\"]\n",
    "      for medikament in medikamentListe:\n",
    "          print(medikament[\"name\"])\n",
    "          print(medikament[\"timeInterval\"])\n",
    "          for i in medikament[\"timesToTake\"]:\n",
    "              print(i)\n",
    "\n",
    "\n",
    "\n",
    "\n",
    "\n"
   ]
  }
 ],
 "metadata": {
  "kernelspec": {
   "display_name": "base",
   "language": "python",
   "name": "python3"
  },
  "language_info": {
   "codemirror_mode": {
    "name": "ipython",
    "version": 3
   },
   "file_extension": ".py",
   "mimetype": "text/x-python",
   "name": "python",
   "nbconvert_exporter": "python",
   "pygments_lexer": "ipython3",
   "version": "3.11.5"
  }
 },
 "nbformat": 4,
 "nbformat_minor": 5
}
